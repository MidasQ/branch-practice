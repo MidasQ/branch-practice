{
 "cells": [
  {
   "cell_type": "code",
   "execution_count": 1,
   "id": "1b868053",
   "metadata": {
    "ExecuteTime": {
     "end_time": "2022-08-18T05:26:01.245748Z",
     "start_time": "2022-08-18T05:26:01.234745Z"
    }
   },
   "outputs": [],
   "source": [
    "from random import randint"
   ]
  },
  {
   "cell_type": "code",
   "execution_count": 23,
   "id": "6a8db3ce",
   "metadata": {
    "ExecuteTime": {
     "end_time": "2022-08-18T05:29:36.421789Z",
     "start_time": "2022-08-18T05:29:34.264944Z"
    }
   },
   "outputs": [
    {
     "name": "stdout",
     "output_type": "stream",
     "text": [
      "1\n",
      "Guess the number(1~100)12\n",
      "Wrong Answer\n"
     ]
    }
   ],
   "source": [
    "answer = randint(1,100)\n",
    "print(answer)\n",
    "\n",
    "guess = int(input(\"Guess the number(1~100) : \"))\n",
    "\n",
    "if answer == guess:\n",
    "    print(\"That's correct\")\n",
    "else: \n",
    "    print(\"Wrong Answer\")\n",
    "    "
   ]
  },
  {
   "cell_type": "code",
   "execution_count": null,
   "id": "189cea53",
   "metadata": {},
   "outputs": [],
   "source": []
  }
 ],
 "metadata": {
  "kernelspec": {
   "display_name": "Python 3 (ipykernel)",
   "language": "python",
   "name": "python3"
  },
  "language_info": {
   "codemirror_mode": {
    "name": "ipython",
    "version": 3
   },
   "file_extension": ".py",
   "mimetype": "text/x-python",
   "name": "python",
   "nbconvert_exporter": "python",
   "pygments_lexer": "ipython3",
   "version": "3.9.12"
  },
  "toc": {
   "base_numbering": 1,
   "nav_menu": {},
   "number_sections": true,
   "sideBar": true,
   "skip_h1_title": false,
   "title_cell": "Table of Contents",
   "title_sidebar": "Contents",
   "toc_cell": false,
   "toc_position": {},
   "toc_section_display": true,
   "toc_window_display": false
  },
  "varInspector": {
   "cols": {
    "lenName": 16,
    "lenType": 16,
    "lenVar": 40
   },
   "kernels_config": {
    "python": {
     "delete_cmd_postfix": "",
     "delete_cmd_prefix": "del ",
     "library": "var_list.py",
     "varRefreshCmd": "print(var_dic_list())"
    },
    "r": {
     "delete_cmd_postfix": ") ",
     "delete_cmd_prefix": "rm(",
     "library": "var_list.r",
     "varRefreshCmd": "cat(var_dic_list()) "
    }
   },
   "types_to_exclude": [
    "module",
    "function",
    "builtin_function_or_method",
    "instance",
    "_Feature"
   ],
   "window_display": false
  }
 },
 "nbformat": 4,
 "nbformat_minor": 5
}
